{
  "cells": [
    {
      "cell_type": "code",
      "execution_count": null,
      "metadata": {
        "id": "Cm5iw4_awbbE"
      },
      "outputs": [],
      "source": [
        "import torch\n",
        "from torch import nn, onnx\n",
        "from torch.nn import functional as F\n",
        "from torch.optim import Adam\n",
        "import pandas as pd\n",
        "from tqdm import tqdm\n",
        "from matplotlib import pyplot as plt"
      ]
    },
    {
      "cell_type": "code",
      "execution_count": null,
      "metadata": {
        "id": "gFm010iswuPP"
      },
      "outputs": [],
      "source": [
        "def normalize(table: pd.Series) -> torch.Tensor:\n",
        "    table = table.apply(lambda x: int(x.replace(\"#\", \"\").replace(\"\\ufeff\", \"\")))\n",
        "    table = torch.from_numpy(table.to_numpy())\n",
        "\n",
        "    # От куда я взял эти числа смотри в analis.ipynb\n",
        "    table[table < -1192] = -1192\n",
        "    table[table >  1217] =  1217\n",
        "    table = table - 10.31\n",
        "    table = table / 1206.7\n",
        "\n",
        "    return table"
      ]
    },
    {
      "cell_type": "code",
      "execution_count": null,
      "metadata": {
        "id": "LXfPnLzcxr6a"
      },
      "outputs": [],
      "source": [
        "def dec2bin(x: torch.Tensor, bits: int) -> torch.Tensor:\n",
        "    mask = 2 ** torch.arange(bits-1, -1, -1).to(x.device, x.dtype)\n",
        "    return x.unsqueeze(-1).bitwise_and(mask).ne(0)\n",
        "\n",
        "def bin_coding(fen: str) -> torch.Tensor:\n",
        "    fen, tour = fen.split(\" \")[:2]\n",
        "    fen = fen.replace(\"/\", \"\")\\\n",
        "        .replace(\"1\", \".\")\\\n",
        "        .replace(\"2\", \"..\")\\\n",
        "        .replace(\"3\", \"...\")\\\n",
        "        .replace(\"4\", \"....\")\\\n",
        "        .replace(\"5\", \".....\")\\\n",
        "        .replace(\"6\", \"......\")\\\n",
        "        .replace(\"7\", \".......\")\\\n",
        "        .replace(\"8\", \"........\")\n",
        "    hot = torch.zeros(65, dtype=torch.uint8)\n",
        "\n",
        "    for idx, sym in enumerate(fen):\n",
        "        if sym == \".\": continue\n",
        "        elif sym == \"r\": hot[idx] = 1\n",
        "        elif sym == \"n\": hot[idx] = 2\n",
        "        elif sym == \"b\": hot[idx] = 3\n",
        "        elif sym == \"q\": hot[idx] = 4\n",
        "        elif sym == \"k\": hot[idx] = 5\n",
        "        elif sym == \"p\": hot[idx] = 6\n",
        "        elif sym == \"R\": hot[idx] = 7\n",
        "        elif sym == \"N\": hot[idx] = 8\n",
        "        elif sym == \"B\": hot[idx] = 9\n",
        "        elif sym == \"Q\": hot[idx] = 10\n",
        "        elif sym == \"K\": hot[idx] = 11\n",
        "        elif sym == \"P\": hot[idx] = 12\n",
        "\n",
        "    if tour == \"b\": hot[64] = 10  # 0b1010\n",
        "    else: hot[64] = 5             # 0b0101\n",
        "\n",
        "    return dec2bin(hot, 4).flatten()\n",
        "\n",
        "def parse_fen(table: pd.Series) -> torch.Tensor:\n",
        "    x = []\n",
        "\n",
        "    for fen in tqdm(table, \"Parse FEN\"):\n",
        "        x.append(bin_coding(fen))\n",
        "\n",
        "    return torch.stack(x)"
      ]
    },
    {
      "cell_type": "code",
      "execution_count": null,
      "metadata": {
        "id": "sX-lVbg-xy2T"
      },
      "outputs": [],
      "source": [
        "def read_data(path: str,\n",
        "              batch: int = 64,\n",
        "              device: str = \"cpu\") -> \"generator\":\n",
        "    table = pd.read_csv(path)\n",
        "    fen = parse_fen(table.FEN).to(device).float()  # Очень долго\n",
        "    eva = normalize(table.Evaluation).to(device)\n",
        "\n",
        "    rand = torch.randperm(fen.size(0))\n",
        "    fen = fen[rand]\n",
        "    eva = eva[rand]\n",
        "    max_n = round(fen.shape[0] / batch + 0.5)\n",
        "    n = 0\n",
        "\n",
        "    while True:\n",
        "        if (n == max_n):\n",
        "            rand = torch.randperm(len(fen))\n",
        "            fen = fen[rand]\n",
        "            eva = eva[rand]\n",
        "            n = 0\n",
        "        else:\n",
        "            n += 1\n",
        "\n",
        "        x = fen[batch * n:batch * (n + 1)]\n",
        "        y = eva[batch * n:batch * (n + 1)]\n",
        "        yield (x, y)"
      ]
    },
    {
      "cell_type": "code",
      "execution_count": null,
      "metadata": {
        "id": "v8K6J4bNx36V"
      },
      "outputs": [],
      "source": [
        "class ChessAI(nn.Module):\n",
        "    def __init__(self):\n",
        "        super().__init__()\n",
        "        self.fc = nn.Sequential(\n",
        "            nn.Linear(260, 30, bias=False), nn.ReLU(),\n",
        "            nn.Linear( 30, 15, bias=False), nn.ReLU(),\n",
        "            nn.Linear( 15,  5, bias=False), nn.ReLU(),\n",
        "            nn.Linear(  5,  1, bias=False), nn.Softsign(),\n",
        "        )\n",
        "\n",
        "    def forward(self, inp: torch.Tensor) -> torch.Tensor:\n",
        "        out = self.fc(inp)\n",
        "        return out.squeeze(-1)"
      ]
    },
    {
      "cell_type": "code",
      "execution_count": null,
      "metadata": {
        "id": "HQaP5ueZmMSF"
      },
      "outputs": [],
      "source": [
        "def train(model: ChessAI,\n",
        "          optimizer: Adam,\n",
        "          data: \"generator\",\n",
        "          loops: int = 64) -> list[float]:\n",
        "    model.train()\n",
        "    history = []\n",
        "\n",
        "    for _ in tqdm(range(loops), \"Train model\"):\n",
        "        x, y = next(data)\n",
        "        out = model(x)\n",
        "        loss = F.mse_loss(out, y)\n",
        "\n",
        "        loss.backward()\n",
        "        optimizer.step()\n",
        "        model.zero_grad()\n",
        "\n",
        "        history.append(loss.item())\n",
        "\n",
        "    plt.plot(history)\n",
        "    return history"
      ]
    },
    {
      "cell_type": "code",
      "execution_count": null,
      "metadata": {
        "id": "GWJ_p1J5mFgX",
        "colab": {
          "base_uri": "https://localhost:8080/"
        },
        "outputId": "b99eeafc-b022-45bf-a66b-bc55652dec06"
      },
      "outputs": [
        {
          "output_type": "stream",
          "name": "stderr",
          "text": [
            "Parse FEN: 100%|██████████| 1000273/1000273 [03:32<00:00, 4715.54it/s]\n"
          ]
        },
        {
          "output_type": "stream",
          "name": "stdout",
          "text": [
            "Number parameters in Model: 8330\n",
            "ChessAI(\n",
            "  (fc): Sequential(\n",
            "    (0): Linear(in_features=260, out_features=30, bias=False)\n",
            "    (1): ReLU()\n",
            "    (2): Linear(in_features=30, out_features=15, bias=False)\n",
            "    (3): ReLU()\n",
            "    (4): Linear(in_features=15, out_features=5, bias=False)\n",
            "    (5): ReLU()\n",
            "    (6): Linear(in_features=5, out_features=1, bias=False)\n",
            "    (7): Softsign()\n",
            "  )\n",
            ")\n"
          ]
        }
      ],
      "source": [
        "bot = ChessAI().to(\"cuda\")\n",
        "optim = Adam(\n",
        "    bot.parameters(),\n",
        "    lr=1e-4,\n",
        ")\n",
        "data = read_data(\n",
        "    path=\"/content/drive/MyDrive/data/chessEval/random_evals.csv\",\n",
        "    batch=128,\n",
        "    device=\"cuda\",\n",
        ")\n",
        "next(data)\n",
        "\n",
        "num_param = sum(p.numel() for p in bot.parameters())\n",
        "print(f\"Number parameters in Model: {num_param}\")\n",
        "print(bot)"
      ]
    },
    {
      "cell_type": "code",
      "execution_count": null,
      "metadata": {
        "colab": {
          "base_uri": "https://localhost:8080/",
          "height": 447
        },
        "id": "U8StWFCircsW",
        "outputId": "63ded0ab-aeb9-442f-97d6-85664dbb1470"
      },
      "outputs": [
        {
          "output_type": "stream",
          "name": "stderr",
          "text": [
            "Train model: 100%|██████████| 131072/131072 [03:35<00:00, 609.43it/s]\n"
          ]
        },
        {
          "output_type": "display_data",
          "data": {
            "text/plain": [
              "<Figure size 640x480 with 1 Axes>"
            ],
            "image/png": "[encoded data removed]"
          },
          "metadata": {}
        }
      ],
      "source": [
        "hist = train(\n",
        "    model=bot,\n",
        "    optimizer=optim,\n",
        "    data=data,\n",
        "    loops=2**17,\n",
        ")"
      ]
    },
    {
      "cell_type": "code",
      "execution_count": null,
      "metadata": {
        "id": "JBKQOPAQE3wH"
      },
      "outputs": [],
      "source": [
        "# Сохранение модели в формате onnx\n",
        "bot.eval().cpu()\n",
        "input = torch.zeros(1, 260)\n",
        "\n",
        "onnx.export(\n",
        "    model = bot,\n",
        "    args = input,\n",
        "    f = \"ChessBot.onnx\",\n",
        "    export_params = True,\n",
        "    verbose = True,\n",
        "    input_names = [\"Input\"],\n",
        "    output_names = [\"Position assessment\"],\n",
        "    opset_version = 11,\n",
        ")"
      ]
    }
  ],
  "metadata": {
    "colab": {
      "provenance": [],
      "gpuType": "T4"
    },
    "kernelspec": {
      "display_name": "Python 3",
      "name": "python3"
    },
    "language_info": {
      "name": "python"
    },
    "accelerator": "GPU"
  },
  "nbformat": 4,
  "nbformat_minor": 0
}