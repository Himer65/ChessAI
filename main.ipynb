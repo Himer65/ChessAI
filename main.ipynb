{
  "cells": [
    {
      "cell_type": "code",
      "execution_count": 1,
      "metadata": {
        "id": "Cm5iw4_awbbE"
      },
      "outputs": [],
      "source": [
        "import torch\n",
        "from torch import nn, onnx\n",
        "from torch.nn import functional as F\n",
        "from torch.optim import Adam\n",
        "import pandas as pd\n",
        "from tqdm import tqdm\n",
        "from matplotlib import pyplot as plt"
      ]
    },
    {
      "cell_type": "code",
      "execution_count": 3,
      "metadata": {
        "id": "gFm010iswuPP"
      },
      "outputs": [],
      "source": [
        "def normalize(table: pd.Series) -> torch.Tensor:\n",
        "    table = table.apply(lambda x: int(x.replace(\"#\", \"\").replace(\"\\ufeff\", \"\")))\n",
        "    table = torch.from_numpy(table.to_numpy())\n",
        "\n",
        "    # От куда я взял эти числа смотри в analis.ipynb\n",
        "    table[table < -1192] = -1192\n",
        "    table[table >  1217] =  1217\n",
        "    table = table - 10.31\n",
        "    table = table / 1206.7\n",
        "\n",
        "    return table"
      ]
    },
    {
      "cell_type": "code",
      "execution_count": 4,
      "metadata": {
        "id": "LXfPnLzcxr6a"
      },
      "outputs": [],
      "source": [
        "_piece = {\n",
        "    \"r\": 0, \"q\": 3,\n",
        "    \"n\": 1, \"k\": 4,\n",
        "    \"b\": 2, \"p\": 5,\n",
        "}\n",
        "\n",
        "def hot_coding(fen: str) -> torch.Tensor:\n",
        "    hot = torch.zeros(385, dtype=torch.int8)\n",
        "    hidx = 0\n",
        "\n",
        "    for idx in range(len(fen)):\n",
        "        if fen[idx] == \" \":\n",
        "            tour = 1 if fen[idx + 1] == \"b\" else -1\n",
        "            hot[384] = tour\n",
        "            break\n",
        "        elif fen[idx] == \"/\":\n",
        "            hidx -= 6;\n",
        "            continue\n",
        "        elif fen[idx].lower() not in _piece:\n",
        "            hidx += int(fen[idx]) * 6 - 6;\n",
        "            continue\n",
        "\n",
        "        P = 1 if fen[idx].islower() else -1\n",
        "        hot[hidx + _piece[fen[idx].lower()]] = P;\n",
        "        hidx += 6\n",
        "\n",
        "    return hot\n",
        "\n",
        "def parse_fen(table: pd.Series) -> torch.Tensor:\n",
        "    x = []\n",
        "\n",
        "    for fen in tqdm(table, \"Parse FEN\"):\n",
        "        x.append(hot_coding(fen))\n",
        "\n",
        "    return torch.stack(x)"
      ]
    },
    {
      "cell_type": "code",
      "execution_count": 5,
      "metadata": {
        "id": "sX-lVbg-xy2T"
      },
      "outputs": [],
      "source": [
        "def read_data(path: str,\n",
        "              batch: int = 64,\n",
        "              device: str = \"cpu\") -> \"generator\":\n",
        "    table = pd.read_csv(path)\n",
        "    fen = parse_fen(table.FEN).to(device).float()  # Очень долго\n",
        "    eva = normalize(table.Evaluation).to(device)\n",
        "\n",
        "    rand = torch.randperm(fen.size(0))\n",
        "    fen = fen[rand]\n",
        "    eva = eva[rand]\n",
        "    max_n = round(fen.shape[0] / batch + 0.5)\n",
        "    n = 0\n",
        "\n",
        "    while True:\n",
        "        if (n == max_n):\n",
        "            rand = torch.randperm(len(fen))\n",
        "            fen = fen[rand]\n",
        "            eva = eva[rand]\n",
        "            n = 0\n",
        "        else:\n",
        "            n += 1\n",
        "\n",
        "        x = fen[batch * n:batch * (n + 1)]\n",
        "        y = eva[batch * n:batch * (n + 1)]\n",
        "        yield (x, y)"
      ]
    },
    {
      "cell_type": "code",
      "execution_count": 22,
      "metadata": {
        "id": "v8K6J4bNx36V"
      },
      "outputs": [],
      "source": [
        "class PlanktonAI(nn.Module):\n",
        "    def __init__(self):\n",
        "        super().__init__()\n",
        "        self.fc = nn.Sequential(\n",
        "            nn.Linear(385, 20, bias=False), nn.ReLU6(),\n",
        "            nn.Linear( 20, 10, bias=False), nn.ReLU6(),\n",
        "            nn.Linear( 10,  5, bias=False), nn.ReLU6(),\n",
        "            nn.Linear(  5,  1, bias=False), nn.Softsign(),\n",
        "        )\n",
        "\n",
        "    def forward(self, inp: torch.Tensor) -> torch.Tensor:\n",
        "        out = self.fc(inp)\n",
        "        return out.squeeze(-1)"
      ]
    },
    {
      "cell_type": "code",
      "execution_count": 41,
      "metadata": {
        "id": "HQaP5ueZmMSF"
      },
      "outputs": [],
      "source": [
        "num_param = lambda m: sum(p.numel() for p in m.parameters())\n",
        "\n",
        "def train(model: PlanktonAI,\n",
        "          optimizer: Adam,\n",
        "          data: \"generator\",\n",
        "          loops: int = 64) -> list[float]:\n",
        "    model.train()\n",
        "    history = []\n",
        "\n",
        "    for _ in tqdm(range(loops), \"Train model\"):\n",
        "        x, y = next(data)\n",
        "        out = model(x)\n",
        "        loss = F.mse_loss(out, y)\n",
        "\n",
        "        loss.backward()\n",
        "        optimizer.step()\n",
        "        model.zero_grad()\n",
        "\n",
        "        history.append(loss.item())\n",
        "\n",
        "    plt.title(\"L2 loss function\")\n",
        "    plt.plot(history)\n",
        "    return history"
      ]
    },
    {
      "cell_type": "code",
      "execution_count": 43,
      "metadata": {
        "id": "GWJ_p1J5mFgX",
        "colab": {
          "base_uri": "https://localhost:8080/"
        },
        "outputId": "d6fafa63-fe93-4e8d-e7ac-2faf5b93d12b"
      },
      "outputs": [
        {
          "output_type": "stream",
          "name": "stderr",
          "text": [
            "Parse FEN: 100%|██████████| 1000273/1000273 [02:40<00:00, 6219.01it/s]\n"
          ]
        },
        {
          "output_type": "stream",
          "name": "stdout",
          "text": [
            "Number parameters in Model: 7955\n",
            "PlanktonAI(\n",
            "  (fc): Sequential(\n",
            "    (0): Linear(in_features=385, out_features=20, bias=False)\n",
            "    (1): ReLU6()\n",
            "    (2): Linear(in_features=20, out_features=10, bias=False)\n",
            "    (3): ReLU6()\n",
            "    (4): Linear(in_features=10, out_features=5, bias=False)\n",
            "    (5): ReLU6()\n",
            "    (6): Linear(in_features=5, out_features=1, bias=False)\n",
            "    (7): Softsign()\n",
            "  )\n",
            ")\n"
          ]
        }
      ],
      "source": [
        "bot = PlanktonAI().to(\"cuda\")\n",
        "optim = Adam(\n",
        "    bot.parameters(),\n",
        "    lr=5e-5,\n",
        ")\n",
        "data = read_data(\n",
        "    path=\"/content/drive/MyDrive/data/chessEval/random_evals.csv\",\n",
        "    batch=128,\n",
        "    device=\"cuda\",\n",
        ")\n",
        "next(data)\n",
        "\n",
        "print(f\"Number parameters in Model: {num_param(bot)}\")\n",
        "print(bot)"
      ]
    },
    {
      "cell_type": "code",
      "execution_count": 44,
      "metadata": {
        "colab": {
          "base_uri": "https://localhost:8080/",
          "height": 469
        },
        "id": "U8StWFCircsW",
        "outputId": "a67cb12e-8cbe-4b0a-d33c-c8c8d72f0719"
      },
      "outputs": [
        {
          "output_type": "stream",
          "name": "stderr",
          "text": [
            "Train model: 100%|██████████| 131072/131072 [03:37<00:00, 602.57it/s]\n"
          ]
        },
        {
          "output_type": "display_data",
          "data": {
            "text/plain": [
              "<Figure size 640x480 with 1 Axes>"
            ],
            "image/png": "[encoded data removed]"
          },
          "metadata": {}
        }
      ],
      "source": [
        "hist = train(\n",
        "    model = bot,\n",
        "    optimizer = optim,\n",
        "    data = data,\n",
        "    loops = 2**17,\n",
        ")"
      ]
    },
    {
      "cell_type": "code",
      "execution_count": 46,
      "metadata": {
        "id": "JBKQOPAQE3wH"
      },
      "outputs": [],
      "source": [
        "# Сохранение модели в формате onnx\n",
        "bot.eval().cpu()\n",
        "input = torch.rand(1, 385)\n",
        "\n",
        "onnx.export(\n",
        "    model = bot,\n",
        "    args = input,\n",
        "    f = \"PlanktonBot.onnx\",\n",
        "    export_params = True,\n",
        "    verbose = True,\n",
        "    input_names = [\"Input\"],\n",
        "    output_names = [\"Position assessment\"],\n",
        "    opset_version = 11,\n",
        ")"
      ]
    }
  ],
  "metadata": {
    "colab": {
      "provenance": [],
      "gpuType": "T4"
    },
    "kernelspec": {
      "display_name": "Python 3",
      "name": "python3"
    },
    "language_info": {
      "name": "python"
    },
    "accelerator": "GPU"
  },
  "nbformat": 4,
  "nbformat_minor": 0
}