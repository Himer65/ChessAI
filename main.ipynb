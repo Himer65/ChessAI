{
  "cells": [
    {
      "cell_type": "code",
      "execution_count": 1,
      "metadata": {
        "id": "Cm5iw4_awbbE"
      },
      "outputs": [],
      "source": [
        "import torch\n",
        "from torch import nn, onnx\n",
        "from torch.nn import functional as F\n",
        "from torch.optim import Adam\n",
        "import pandas as pd\n",
        "from tqdm import tqdm\n",
        "from matplotlib import pyplot as plt"
      ]
    },
    {
      "cell_type": "code",
      "execution_count": 2,
      "metadata": {
        "id": "gFm010iswuPP"
      },
      "outputs": [],
      "source": [
        "def normalize(table: pd.Series) -> torch.Tensor:\n",
        "    table = table.apply(lambda x: int(x.replace(\"#\", \"\").replace(\"\\ufeff\", \"\")))\n",
        "    table = torch.from_numpy(table.to_numpy())\n",
        "\n",
        "    # От куда я взял эти числа смотри в analis.ipynb\n",
        "    table[table < -1192] = -1192\n",
        "    table[table >  1217] =  1217\n",
        "    table = table - 10.31\n",
        "    table = table / 1206.7\n",
        "\n",
        "    return table"
      ]
    },
    {
      "cell_type": "code",
      "execution_count": 3,
      "metadata": {
        "id": "LXfPnLzcxr6a"
      },
      "outputs": [],
      "source": [
        "def parse_fen(table: pd.Series) -> torch.Tensor:\n",
        "    # Переписать на регулярки?\n",
        "    x = []\n",
        "\n",
        "    for txt in tqdm(table, \"Parse FEN\"):\n",
        "        fen, tour = txt.split(\" \")[:2]\n",
        "        fen = fen.replace(\"/\", \"\")\\\n",
        "            .replace(\"1\", \".\")\\\n",
        "            .replace(\"2\", \"..\")\\\n",
        "            .replace(\"3\", \"...\")\\\n",
        "            .replace(\"4\", \"....\")\\\n",
        "            .replace(\"5\", \".....\")\\\n",
        "            .replace(\"6\", \"......\")\\\n",
        "            .replace(\"7\", \".......\")\\\n",
        "            .replace(\"8\", \"........\")\n",
        "\n",
        "        hot = torch.zeros(770, dtype=torch.uint8)  # 12 * 8 * 8 + 2\n",
        "        for idx, sym in enumerate(fen):\n",
        "            match sym:\n",
        "                case \"r\": hot[idx*12 +  0] = 1\n",
        "                case \"n\": hot[idx*12 +  1] = 1\n",
        "                case \"b\": hot[idx*12 +  2] = 1\n",
        "                case \"q\": hot[idx*12 +  3] = 1\n",
        "                case \"k\": hot[idx*12 +  4] = 1\n",
        "                case \"p\": hot[idx*12 +  5] = 1\n",
        "                case \"R\": hot[idx*12 +  6] = 1\n",
        "                case \"N\": hot[idx*12 +  7] = 1\n",
        "                case \"B\": hot[idx*12 +  8] = 1\n",
        "                case \"Q\": hot[idx*12 +  9] = 1\n",
        "                case \"K\": hot[idx*12 + 10] = 1\n",
        "                case \"P\": hot[idx*12 + 11] = 1\n",
        "                case \".\": continue\n",
        "\n",
        "        if tour == \"b\":\n",
        "            hot[768] = 1\n",
        "        else:\n",
        "            hot[769] = 1\n",
        "        x.append(hot)\n",
        "\n",
        "    return torch.stack(x).type(torch.float)"
      ]
    },
    {
      "cell_type": "code",
      "execution_count": 4,
      "metadata": {
        "id": "sX-lVbg-xy2T"
      },
      "outputs": [],
      "source": [
        "def read_data(path: str,\n",
        "              batch: int = 64,\n",
        "              device: str = \"cpu\") -> \"generator\":\n",
        "    table = pd.read_csv(path)\n",
        "    fen = parse_fen(table.FEN).to(device)  # Очень долго, переписать\n",
        "    eva = normalize(table.Evaluation).to(device)\n",
        "\n",
        "    rand = torch.randperm(fen.size(0))\n",
        "    fen = fen[rand]\n",
        "    eva = eva[rand]\n",
        "    max_n = round(fen.shape[0] / batch + 0.5)\n",
        "    n = 0\n",
        "\n",
        "    while True:\n",
        "        if (n == max_n):\n",
        "            rand = torch.randperm(len(fen))\n",
        "            fen = fen[rand]\n",
        "            eva = eva[rand]\n",
        "            n = 0\n",
        "        else:\n",
        "            n += 1\n",
        "\n",
        "        x = fen[batch * n:batch * (n + 1)]\n",
        "        y = eva[batch * n:batch * (n + 1)]\n",
        "        yield (x, y)"
      ]
    },
    {
      "cell_type": "code",
      "execution_count": 5,
      "metadata": {
        "id": "v8K6J4bNx36V"
      },
      "outputs": [],
      "source": [
        "class ChessAI(nn.Module):\n",
        "    def __init__(self):\n",
        "        super().__init__()\n",
        "        self.hot = nn.Linear(770, 20, bias=False)\n",
        "        self.fc = nn.Sequential(\n",
        "            nn.Linear(20, 10, bias=False), nn.ReLU(),\n",
        "            nn.Linear(10,  5, bias=False), nn.ReLU(),\n",
        "            nn.Linear( 5,  1, bias=False), nn.Softsign(),\n",
        "        )\n",
        "        # Всего 1555 обучаеммых параметров с оптимизацией на emb!!! (?)\n",
        "\n",
        "    def forward(self, inp: torch.Tensor) -> torch.Tensor:\n",
        "        inp = self.hot(inp)\n",
        "        out = self.fc(inp)\n",
        "\n",
        "        return out.squeeze(-1)"
      ]
    },
    {
      "cell_type": "code",
      "execution_count": 6,
      "metadata": {
        "id": "HQaP5ueZmMSF"
      },
      "outputs": [],
      "source": [
        "def train(model: ChessAI,\n",
        "          optimizer: Adam,\n",
        "          data: \"generator\",\n",
        "          loops: int = 64) -> list[float]:\n",
        "    model.train()\n",
        "    history = []\n",
        "\n",
        "    for _ in tqdm(range(loops), \"Train model\"):\n",
        "        x, y = next(data)\n",
        "        out = model(x)\n",
        "        loss = F.mse_loss(out, y)\n",
        "\n",
        "        loss.backward()\n",
        "        optimizer.step()\n",
        "        model.zero_grad()\n",
        "\n",
        "        history.append(loss.item())\n",
        "\n",
        "    plt.plot(history)\n",
        "    return history"
      ]
    },
    {
      "cell_type": "code",
      "execution_count": 7,
      "metadata": {
        "id": "GWJ_p1J5mFgX",
        "colab": {
          "base_uri": "https://localhost:8080/"
        },
        "outputId": "547ad165-115f-428d-cd5b-71ee832e3f30"
      },
      "outputs": [
        {
          "output_type": "stream",
          "name": "stderr",
          "text": [
            "Parse FEN: 100%|██████████| 1000273/1000273 [03:07<00:00, 5342.87it/s]\n"
          ]
        }
      ],
      "source": [
        "bot = ChessAI().to(\"cuda\")\n",
        "optim = Adam(\n",
        "    bot.parameters(),\n",
        "    lr=1e-4,\n",
        ")\n",
        "data = read_data(\n",
        "    path=\"/content/drive/MyDrive/data/chessEval/random_evals.csv\",\n",
        "    batch=128,\n",
        "    device=\"cuda\",\n",
        ")\n",
        "_ = next(data)"
      ]
    },
    {
      "cell_type": "code",
      "execution_count": 8,
      "metadata": {
        "colab": {
          "base_uri": "https://localhost:8080/",
          "height": 447
        },
        "id": "U8StWFCircsW",
        "outputId": "93a803ed-3c2e-4109-9cf7-510bba1ee9c6"
      },
      "outputs": [
        {
          "output_type": "stream",
          "name": "stderr",
          "text": [
            "Train model: 100%|██████████| 262144/262144 [06:52<00:00, 635.11it/s]\n"
          ]
        },
        {
          "output_type": "display_data",
          "data": {
            "text/plain": [
              "<Figure size 640x480 with 1 Axes>"
            ],
            "image/png": "[encoded data removed]"
          },
          "metadata": {}
        }
      ],
      "source": [
        "hist = train(\n",
        "    model=bot,\n",
        "    optimizer=optim,\n",
        "    data=data,\n",
        "    loops=2**18,\n",
        ")"
      ]
    },
    {
      "cell_type": "code",
      "execution_count": 10,
      "metadata": {
        "id": "JBKQOPAQE3wH"
      },
      "outputs": [],
      "source": [
        "# Сохранение модели в формате onnx\n",
        "bot.eval()\n",
        "input = _[0]\n",
        "\n",
        "onnx.export(\n",
        "    model = bot,\n",
        "    args = input,\n",
        "    f = \"ChessBot.onnx\",\n",
        "    export_params = True,\n",
        "    verbose = True,\n",
        "    input_names = [\"One-Hot input\"],\n",
        "    output_names = [\"Position assessment\"],\n",
        ")"
      ]
    }
  ],
  "metadata": {
    "colab": {
      "provenance": [],
      "gpuType": "T4"
    },
    "kernelspec": {
      "display_name": "Python 3",
      "name": "python3"
    },
    "language_info": {
      "name": "python"
    },
    "accelerator": "GPU"
  },
  "nbformat": 4,
  "nbformat_minor": 0
}